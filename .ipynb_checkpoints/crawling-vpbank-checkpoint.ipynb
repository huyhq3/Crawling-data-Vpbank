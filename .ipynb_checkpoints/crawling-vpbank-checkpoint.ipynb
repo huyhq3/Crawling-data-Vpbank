{
 "cells": [
  {
   "cell_type": "code",
   "execution_count": 2,
   "id": "7bdecea0-5621-4505-a3e8-ba104260e8f4",
   "metadata": {},
   "outputs": [],
   "source": [
    "from bs4 import BeautifulSoup\n",
    "import undetected_chromedriver as uc\n",
    "import pandas as pd"
   ]
  },
  {
   "cell_type": "code",
   "execution_count": 3,
   "id": "444585ee-b91e-47c5-a69d-1913897179bb",
   "metadata": {},
   "outputs": [
    {
     "name": "stdout",
     "output_type": "stream",
     "text": [
      "https://www.vpbank.com.vn/chi-nhanh-va-atm\n"
     ]
    }
   ],
   "source": [
    "options = uc.ChromeOptions()\n",
    "options.headless = False\n",
    "options.add_argument(\"--disable-blink-features=AutomationControlled\")\n",
    "driver = uc.Chrome(version_main=136)\n",
    "driver.get(\"https://www.vpbank.com.vn/chi-nhanh-va-atm\")\n",
    "\n",
    "# check if url is loaded\n",
    "print(driver.current_url)"
   ]
  },
  {
   "cell_type": "code",
   "execution_count": 4,
   "id": "82ca6292-efef-4c8e-99e3-431eb8cabbc1",
   "metadata": {},
   "outputs": [
    {
     "name": "stdout",
     "output_type": "stream",
     "text": [
      "1450\n"
     ]
    }
   ],
   "source": [
    "page_source = BeautifulSoup(driver.page_source, 'html.parser')\n",
    "results = []\n",
    "items_ul = page_source.find('ul', class_='branch-atm-response')\n",
    "items = items_ul.find_all('li', class_='branch-atm-response__item')\n",
    "print(len(items))"
   ]
  },
  {
   "cell_type": "code",
   "execution_count": 7,
   "id": "5a63e67c-5150-4180-bf4e-947029cbb93a",
   "metadata": {},
   "outputs": [],
   "source": [
    "for item in items:\n",
    "    name = item.find('h3', class_='name')\n",
    "    name_value = name.text.strip() if name else None\n",
    "    tag_div = item.find('div', class_='vpb-tag')\n",
    "    tag_value = None\n",
    "    if tag_div:\n",
    "        visible_tags = []\n",
    "        for span in tag_div.find_all('span'):\n",
    "            if span.get('style') == 'display : initial':\n",
    "                visible_tags.append(span.text.strip())\n",
    "            tag_value = ', '.join(visible_tags) if visible_tags else None\n",
    "\n",
    "    address = item.find('p', class_='address')\n",
    "    address_value = address.text.strip() if address else None\n",
    "    phone = item.find('p', class_='phone')\n",
    "    phone_value = phone.find('a').text.strip() if phone and phone.find('a') else None\n",
    "    latitude = item.get('data-lat')\n",
    "    longtitude = item.get('data-lng')\n",
    "\n",
    "    data_item = {\n",
    "        'Name': name_value,\n",
    "        'Tag': tag_value,\n",
    "        'Address': address_value,\n",
    "        'Phone': phone_value,\n",
    "        'Latitude': latitude,\n",
    "        'Longitude': longtitude\n",
    "    }\n",
    "    results.append(data_item)"
   ]
  },
  {
   "cell_type": "code",
   "execution_count": 14,
   "id": "af8596e5-f1c9-4280-bcce-4f8e454b72de",
   "metadata": {},
   "outputs": [
    {
     "name": "stdout",
     "output_type": "stream",
     "text": [
      "Input data to Vpbank.xlsx\n"
     ]
    }
   ],
   "source": [
    "df = pd.DataFrame(results)\n",
    "file = 'Vpbank.xlsx'\n",
    "df.to_excel(file, index=False)\n",
    "print(f\"Input data to {file}\")"
   ]
  },
  {
   "cell_type": "code",
   "execution_count": null,
   "id": "1761c59f-f1a1-4513-b589-d31b03810597",
   "metadata": {},
   "outputs": [],
   "source": []
  }
 ],
 "metadata": {
  "kernelspec": {
   "display_name": "Python 3 (ipykernel)",
   "language": "python",
   "name": "python3"
  },
  "language_info": {
   "codemirror_mode": {
    "name": "ipython",
    "version": 3
   },
   "file_extension": ".py",
   "mimetype": "text/x-python",
   "name": "python",
   "nbconvert_exporter": "python",
   "pygments_lexer": "ipython3",
   "version": "3.13.1"
  }
 },
 "nbformat": 4,
 "nbformat_minor": 5
}
